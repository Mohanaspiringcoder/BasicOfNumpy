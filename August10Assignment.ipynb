{
  "nbformat": 4,
  "nbformat_minor": 0,
  "metadata": {
    "colab": {
      "name": "August10Assignment.ipynb",
      "provenance": [],
      "collapsed_sections": []
    },
    "kernelspec": {
      "name": "python3",
      "display_name": "Python 3"
    },
    "language_info": {
      "name": "python"
    }
  },
  "cells": [
    {
      "cell_type": "markdown",
      "source": [
        "Name : Mohan  Email : mohandongara@gmail.com"
      ],
      "metadata": {
        "id": "shZ5GDui3n8O"
      }
    },
    {
      "cell_type": "code",
      "source": [
        "import numpy as np\n",
        "limit = input(\"Enter a Limit\")\n",
        "randomArray = np.random.randint(0,limit,(1,20))\n",
        "print(randomArray)"
      ],
      "metadata": {
        "colab": {
          "base_uri": "https://localhost:8080/"
        },
        "id": "SxI0_PEb3tSW",
        "outputId": "96c85ac5-7386-4000-ecd8-41c3fb1d583a"
      },
      "execution_count": 6,
      "outputs": [
        {
          "output_type": "stream",
          "name": "stdout",
          "text": [
            "Enter a Limit34\n",
            "[[ 8 21  1 20 28  6  9 21 19 27  5  9 30  5 33  5  0 23  6  1]]\n"
          ]
        }
      ]
    },
    {
      "cell_type": "code",
      "source": [
        "arrayWithLimit = np.arange(300,500,10).reshape(4,5)\n",
        "print(arrayWithLimit)"
      ],
      "metadata": {
        "colab": {
          "base_uri": "https://localhost:8080/"
        },
        "id": "ch8AN7gN-rt0",
        "outputId": "d88c3900-ff03-4241-92f1-2abbb03e4726"
      },
      "execution_count": 9,
      "outputs": [
        {
          "output_type": "stream",
          "name": "stdout",
          "text": [
            "[[300 310 320 330 340]\n",
            " [350 360 370 380 390]\n",
            " [400 410 420 430 440]\n",
            " [450 460 470 480 490]]\n"
          ]
        }
      ]
    },
    {
      "cell_type": "code",
      "source": [
        "array = np.random.randint(-1000,1000,(20,20))\n",
        "# print(array)\n",
        "print(\"Maximum : \",np.max(array))\n",
        "print(\"Minimum : \",np.min(array))\n",
        "print(\"Mean : \",np.mean(array))"
      ],
      "metadata": {
        "colab": {
          "base_uri": "https://localhost:8080/"
        },
        "id": "CZFjgJsk_W_v",
        "outputId": "76da3514-6484-4ecc-93bc-47132a0145d5"
      },
      "execution_count": 12,
      "outputs": [
        {
          "output_type": "stream",
          "name": "stdout",
          "text": [
            "Maximum :  994\n",
            "Minimum :  -999\n",
            "Mean :  26.5825\n"
          ]
        }
      ]
    },
    {
      "cell_type": "code",
      "source": [
        "a = np.array([[2,30,20,-2,-4],[3,4,40,-3,-2], [-3, 4 ,-6, 90, 10] ,[25 ,45 ,34, 22 ,12], [13 ,24, 22 ,32, 37]])\n",
        "a[-1: ] =  -1\n",
        "a[:2,3:]*=2\n",
        "print(a)"
      ],
      "metadata": {
        "colab": {
          "base_uri": "https://localhost:8080/"
        },
        "id": "P5S3Gq7lAakW",
        "outputId": "d861ac64-86de-4728-90bd-0b4c5df95b7b"
      },
      "execution_count": 23,
      "outputs": [
        {
          "output_type": "stream",
          "name": "stdout",
          "text": [
            "[[ 2 30 20 -4 -8]\n",
            " [ 3  4 40 -6 -4]\n",
            " [-3  4 -6 90 10]\n",
            " [25 45 34 22 12]\n",
            " [-1 -1 -1 -1 -1]]\n"
          ]
        }
      ]
    },
    {
      "cell_type": "code",
      "source": [
        "a = np.array([[2,30,20,-2,-4],[3,4,40,-3,-2], [-3, 4 ,-6, 90, 10] ,[25 ,45 ,34, 22 ,12], [13 ,24, 22 ,32, 37]])\n",
        "a = np.where(a%2 != 0 ,25,a)\n",
        "a = np.where(a<0 ,0,a)\n",
        "print(a)"
      ],
      "metadata": {
        "colab": {
          "base_uri": "https://localhost:8080/"
        },
        "id": "EEo9maJICJEw",
        "outputId": "23f32c79-b05e-42f9-9538-27ace4b63d11"
      },
      "execution_count": 25,
      "outputs": [
        {
          "output_type": "stream",
          "name": "stdout",
          "text": [
            "[[ 2 30 20  0  0]\n",
            " [25  4 40 25  0]\n",
            " [25  4  0 90 10]\n",
            " [25 25 34 22 12]\n",
            " [25 24 22 32 25]]\n"
          ]
        }
      ]
    }
  ]
}